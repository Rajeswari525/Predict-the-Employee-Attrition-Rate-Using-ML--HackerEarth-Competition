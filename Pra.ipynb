{
 "cells": [
  {
   "cell_type": "code",
   "execution_count": 102,
   "metadata": {},
   "outputs": [],
   "source": [
    "import numpy as np\n",
    "import pandas as pd\n",
    "import matplotlib.pyplot as plt\n",
    "import seaborn as sns\n",
    "%matplotlib inline"
   ]
  },
  {
   "cell_type": "code",
   "execution_count": 103,
   "metadata": {},
   "outputs": [],
   "source": [
    "train=pd.read_csv(r'C:\\Users\\hp\\Desktop\\Dataset\\Train.csv')\n",
    "test=pd.read_csv(r'C:\\Users\\hp\\Desktop\\Dataset\\Test.csv')"
   ]
  },
  {
   "cell_type": "code",
   "execution_count": 104,
   "metadata": {},
   "outputs": [],
   "source": [
    "traina=train.copy()\n",
    "testa=test.copy()"
   ]
  },
  {
   "cell_type": "code",
   "execution_count": 105,
   "metadata": {},
   "outputs": [],
   "source": [
    "traina.drop(['Employee_ID'],inplace=True,axis=1)\n",
    "testa.drop(['Employee_ID'],inplace=True,axis=1)"
   ]
  },
  {
   "cell_type": "code",
   "execution_count": 106,
   "metadata": {},
   "outputs": [],
   "source": [
    "traina['Time_of_service'].fillna(round(traina['Time_of_service'].mean()), inplace=True)\n",
    "traina['Age']=traina.apply(lambda row:row['Time_of_service']+26 if np.isnan(row['Age']) else row['Age'],axis=1)\n",
    "traina['Work_Life_balance'].fillna(1.0,inplace=True)\n",
    "traina['VAR2'].fillna(0.7516,inplace=True)\n",
    "traina['VAR4'].fillna(2.0,inplace=True)\n",
    "traina['Pay_Scale'].fillna(8.0,inplace=True)"
   ]
  },
  {
   "cell_type": "code",
   "execution_count": 107,
   "metadata": {},
   "outputs": [],
   "source": [
    "testa['Time_of_service'].fillna(round(testa['Time_of_service'].mean()), inplace=True)\n",
    "testa['Age']=testa.apply(lambda row:row['Time_of_service']+26 if np.isnan(row['Age']) else row['Age'],axis=1)\n",
    "testa['Work_Life_balance'].fillna(1.0,inplace=True)\n",
    "testa['VAR2'].fillna(0.7516,inplace=True)\n",
    "testa['VAR4'].fillna(2.0,inplace=True)\n",
    "testa['Pay_Scale'].fillna(8.0,inplace=True)"
   ]
  },
  {
   "cell_type": "code",
   "execution_count": 108,
   "metadata": {},
   "outputs": [],
   "source": [
    "X=traina[['Gender','Age', 'Education_Level','Relationship_Status','Hometown', 'Unit','Time_of_service', 'Time_since_promotion', 'growth_rate', 'Travel_Rate',\n",
    "       'Post_Level', 'Pay_Scale', 'Compensation_and_Benefits',\n",
    "       'Work_Life_balance', 'VAR1', 'VAR2', 'VAR3','VAR4','VAR5', 'VAR6',\n",
    "       'VAR7']]\n",
    "Y=traina['Attrition_rate']"
   ]
  },
  {
   "cell_type": "code",
   "execution_count": 109,
   "metadata": {},
   "outputs": [],
   "source": [
    "testa=testa[['Gender','Age', 'Education_Level','Relationship_Status','Hometown', 'Unit','Time_of_service', 'Time_since_promotion', 'growth_rate', 'Travel_Rate',\n",
    "       'Post_Level', 'Pay_Scale', 'Compensation_and_Benefits',\n",
    "       'Work_Life_balance', 'VAR1', 'VAR2', 'VAR3','VAR4','VAR5', 'VAR6',\n",
    "       'VAR7']]"
   ]
  },
  {
   "cell_type": "code",
   "execution_count": 110,
   "metadata": {},
   "outputs": [],
   "source": [
    "X=pd.get_dummies(X,columns=['Gender','Relationship_Status','Hometown','Unit','Compensation_and_Benefits','VAR2'])"
   ]
  },
  {
   "cell_type": "code",
   "execution_count": 111,
   "metadata": {},
   "outputs": [],
   "source": [
    "testa=pd.get_dummies(testa,columns=['Gender','Relationship_Status','Hometown','Unit','Compensation_and_Benefits','VAR2'])"
   ]
  },
  {
   "cell_type": "code",
   "execution_count": 112,
   "metadata": {},
   "outputs": [],
   "source": [
    "from sklearn.model_selection import train_test_split\n",
    "X_train,X_test,Y_train,Y_test=train_test_split(X,Y,test_size=0.10,random_state=25)"
   ]
  },
  {
   "cell_type": "code",
   "execution_count": 113,
   "metadata": {},
   "outputs": [
    {
     "data": {
      "text/plain": [
       "Ridge(alpha=1.0, copy_X=True, fit_intercept=True, max_iter=None, normalize=True,\n",
       "      random_state=None, solver='auto', tol=0.001)"
      ]
     },
     "execution_count": 113,
     "metadata": {},
     "output_type": "execute_result"
    }
   ],
   "source": [
    "from sklearn.linear_model import Ridge\n",
    "\n",
    "lin_reg = Ridge(normalize=True)\n",
    "lin_reg.fit(X_train,Y_train)"
   ]
  },
  {
   "cell_type": "code",
   "execution_count": 114,
   "metadata": {},
   "outputs": [
    {
     "data": {
      "text/plain": [
       "0.18974601887986492"
      ]
     },
     "execution_count": 114,
     "metadata": {},
     "output_type": "execute_result"
    }
   ],
   "source": [
    "from sklearn import metrics\n",
    "res=lin_reg.predict(X_test)\n",
    "rmse = np.sqrt(metrics.mean_squared_error(Y_test, res))\n",
    "rmse"
   ]
  },
  {
   "cell_type": "code",
   "execution_count": 115,
   "metadata": {},
   "outputs": [],
   "source": [
    "sub2=lin_reg.predict(testa)"
   ]
  },
  {
   "cell_type": "code",
   "execution_count": 116,
   "metadata": {},
   "outputs": [
    {
     "data": {
      "text/html": [
       "<div>\n",
       "<style scoped>\n",
       "    .dataframe tbody tr th:only-of-type {\n",
       "        vertical-align: middle;\n",
       "    }\n",
       "\n",
       "    .dataframe tbody tr th {\n",
       "        vertical-align: top;\n",
       "    }\n",
       "\n",
       "    .dataframe thead th {\n",
       "        text-align: right;\n",
       "    }\n",
       "</style>\n",
       "<table border=\"1\" class=\"dataframe\">\n",
       "  <thead>\n",
       "    <tr style=\"text-align: right;\">\n",
       "      <th></th>\n",
       "      <th>Employee_ID</th>\n",
       "      <th>Attrition_rate</th>\n",
       "    </tr>\n",
       "  </thead>\n",
       "  <tbody>\n",
       "    <tr>\n",
       "      <td>0</td>\n",
       "      <td>EID_22713</td>\n",
       "      <td>0.203412</td>\n",
       "    </tr>\n",
       "    <tr>\n",
       "      <td>1</td>\n",
       "      <td>EID_9658</td>\n",
       "      <td>0.195093</td>\n",
       "    </tr>\n",
       "    <tr>\n",
       "      <td>2</td>\n",
       "      <td>EID_22203</td>\n",
       "      <td>0.186960</td>\n",
       "    </tr>\n",
       "    <tr>\n",
       "      <td>3</td>\n",
       "      <td>EID_7652</td>\n",
       "      <td>0.217653</td>\n",
       "    </tr>\n",
       "    <tr>\n",
       "      <td>4</td>\n",
       "      <td>EID_6516</td>\n",
       "      <td>0.192482</td>\n",
       "    </tr>\n",
       "    <tr>\n",
       "      <td>...</td>\n",
       "      <td>...</td>\n",
       "      <td>...</td>\n",
       "    </tr>\n",
       "    <tr>\n",
       "      <td>2995</td>\n",
       "      <td>EID_22547</td>\n",
       "      <td>0.192164</td>\n",
       "    </tr>\n",
       "    <tr>\n",
       "      <td>2996</td>\n",
       "      <td>EID_10066</td>\n",
       "      <td>0.182559</td>\n",
       "    </tr>\n",
       "    <tr>\n",
       "      <td>2997</td>\n",
       "      <td>EID_7126</td>\n",
       "      <td>0.175947</td>\n",
       "    </tr>\n",
       "    <tr>\n",
       "      <td>2998</td>\n",
       "      <td>EID_4929</td>\n",
       "      <td>0.174237</td>\n",
       "    </tr>\n",
       "    <tr>\n",
       "      <td>2999</td>\n",
       "      <td>EID_24750</td>\n",
       "      <td>0.187967</td>\n",
       "    </tr>\n",
       "  </tbody>\n",
       "</table>\n",
       "<p>3000 rows × 2 columns</p>\n",
       "</div>"
      ],
      "text/plain": [
       "     Employee_ID  Attrition_rate\n",
       "0      EID_22713        0.203412\n",
       "1       EID_9658        0.195093\n",
       "2      EID_22203        0.186960\n",
       "3       EID_7652        0.217653\n",
       "4       EID_6516        0.192482\n",
       "...          ...             ...\n",
       "2995   EID_22547        0.192164\n",
       "2996   EID_10066        0.182559\n",
       "2997    EID_7126        0.175947\n",
       "2998    EID_4929        0.174237\n",
       "2999   EID_24750        0.187967\n",
       "\n",
       "[3000 rows x 2 columns]"
      ]
     },
     "execution_count": 116,
     "metadata": {},
     "output_type": "execute_result"
    }
   ],
   "source": [
    "results=pd.Series(sub2,name='Attrition_rate')\n",
    "results=pd.concat([test['Employee_ID'],results],axis=1)\n",
    "results"
   ]
  },
  {
   "cell_type": "code",
   "execution_count": 178,
   "metadata": {},
   "outputs": [],
   "source": [
    "results.to_csv(\"ridge1.csv\",index=False)"
   ]
  },
  {
   "cell_type": "code",
   "execution_count": 118,
   "metadata": {},
   "outputs": [],
   "source": [
    "toptree=pd.read_csv(r'C:\\Users\\hp\\Desktop\\useless\\pra1.csv')"
   ]
  },
  {
   "cell_type": "code",
   "execution_count": 119,
   "metadata": {},
   "outputs": [],
   "source": [
    "top=pd.read_csv(r'C:\\Users\\hp\\Desktop\\useless\\ans3.csv')"
   ]
  },
  {
   "cell_type": "code",
   "execution_count": 121,
   "metadata": {},
   "outputs": [
    {
     "data": {
      "text/plain": [
       "0       0.193846\n",
       "1       0.199219\n",
       "2       0.172710\n",
       "3       0.193037\n",
       "4       0.192041\n",
       "          ...   \n",
       "2995    0.200872\n",
       "2996    0.176230\n",
       "2997    0.184504\n",
       "2998    0.197194\n",
       "2999    0.203910\n",
       "Name: Attrition_rate, Length: 3000, dtype: float64"
      ]
     },
     "execution_count": 121,
     "metadata": {},
     "output_type": "execute_result"
    }
   ],
   "source": [
    "toptree['Attrition_rate']"
   ]
  },
  {
   "cell_type": "code",
   "execution_count": 171,
   "metadata": {},
   "outputs": [
    {
     "data": {
      "text/plain": [
       "0       0.194092\n",
       "1       0.189672\n",
       "2       0.189979\n",
       "3       0.194428\n",
       "4       0.192938\n",
       "          ...   \n",
       "2995    0.192249\n",
       "2996    0.191011\n",
       "2997    0.189076\n",
       "2998    0.185732\n",
       "2999    0.190084\n",
       "Name: Attrition_rate, Length: 3000, dtype: float64"
      ]
     },
     "execution_count": 171,
     "metadata": {},
     "output_type": "execute_result"
    }
   ],
   "source": [
    "results['Attrition_rate']=top['Attrition_rate']*0.25+0.75*sub3\n",
    "results['Attrition_rate']"
   ]
  },
  {
   "cell_type": "code",
   "execution_count": 173,
   "metadata": {},
   "outputs": [],
   "source": [
    "from sklearn.linear_model import ElasticNet"
   ]
  },
  {
   "cell_type": "code",
   "execution_count": 174,
   "metadata": {},
   "outputs": [
    {
     "data": {
      "text/plain": [
       "ElasticNet(alpha=1.0, copy_X=True, fit_intercept=True, l1_ratio=0.5,\n",
       "           max_iter=1000, normalize=True, positive=False, precompute=False,\n",
       "           random_state=None, selection='cyclic', tol=0.0001, warm_start=False)"
      ]
     },
     "execution_count": 174,
     "metadata": {},
     "output_type": "execute_result"
    }
   ],
   "source": [
    "lin_reg = ElasticNet(normalize=True)\n",
    "lin_reg.fit(X_train,Y_train)"
   ]
  },
  {
   "cell_type": "code",
   "execution_count": 175,
   "metadata": {},
   "outputs": [
    {
     "data": {
      "text/plain": [
       "0.18953170904121533"
      ]
     },
     "execution_count": 175,
     "metadata": {},
     "output_type": "execute_result"
    }
   ],
   "source": [
    "from sklearn import metrics\n",
    "res=lin_reg.predict(X_test)\n",
    "rmse = np.sqrt(metrics.mean_squared_error(Y_test, res))\n",
    "rmse"
   ]
  },
  {
   "cell_type": "code",
   "execution_count": 176,
   "metadata": {},
   "outputs": [],
   "source": [
    "sub3=lin_reg.predict(testa)"
   ]
  },
  {
   "cell_type": "code",
   "execution_count": 177,
   "metadata": {},
   "outputs": [
    {
     "data": {
      "text/plain": [
       "0.189245    3000\n",
       "Name: Attrition_rate, dtype: int64"
      ]
     },
     "execution_count": 177,
     "metadata": {},
     "output_type": "execute_result"
    }
   ],
   "source": [
    "results=pd.Series(sub3,name='Attrition_rate')\n",
    "results=pd.concat([test['Employee_ID'],results],axis=1)\n",
    "results['Attrition_rate'].value_counts()"
   ]
  },
  {
   "cell_type": "code",
   "execution_count": null,
   "metadata": {},
   "outputs": [],
   "source": []
  }
 ],
 "metadata": {
  "kernelspec": {
   "display_name": "Python 3",
   "language": "python",
   "name": "python3"
  },
  "language_info": {
   "codemirror_mode": {
    "name": "ipython",
    "version": 3
   },
   "file_extension": ".py",
   "mimetype": "text/x-python",
   "name": "python",
   "nbconvert_exporter": "python",
   "pygments_lexer": "ipython3",
   "version": "3.7.3"
  }
 },
 "nbformat": 4,
 "nbformat_minor": 2
}
